{
 "cells": [
  {
   "cell_type": "markdown",
   "id": "understood-update",
   "metadata": {},
   "source": [
    "# 3D MHD simulation with Volume penalization method\n",
    "This notebook aims to show the workflow of setting up a 3D MHD simulation with Volume penalization method in the cylindrical coordinates. ([Morales et al. 2012](https://www.sciencedirect.com/science/article/pii/S002199911400401X))\n",
    "\n",
    "We pick the set up of magnetohydrodynamic Taylor-Couette flow (example 5.4) from ([Morales et al. 2012](https://www.sciencedirect.com/science/article/pii/S002199911400401X)) as a showcase. The result would be slightly different from the  ([Morales et al. 2012](https://www.sciencedirect.com/science/article/pii/S002199911400401X)) since the IC setting is not excatly the same but we show similar result, which B-field has been curved by the flow."
   ]
  },
  {
   "cell_type": "code",
   "execution_count": 1,
   "id": "brave-worst",
   "metadata": {},
   "outputs": [
    {
     "name": "stderr",
     "output_type": "stream",
     "text": [
      "┌ Info: FourierFlows will use 8 threads\n",
      "└ @ FourierFlows /home/doraho/.julia/packages/FourierFlows/IWexK/src/FourierFlows.jl:123\n"
     ]
    }
   ],
   "source": [
    "using MHDFlows,PyPlot,CUDA,Statistics\n",
    "using LinearAlgebra: mul!, ldiv!"
   ]
  },
  {
   "cell_type": "code",
   "execution_count": 2,
   "id": "successful-intention",
   "metadata": {},
   "outputs": [
    {
     "data": {
      "text/plain": [
       "CuDevice(0): NVIDIA GeForce RTX 3080"
      ]
     },
     "execution_count": 2,
     "metadata": {},
     "output_type": "execute_result"
    }
   ],
   "source": [
    "device()"
   ]
  },
  {
   "cell_type": "code",
   "execution_count": 3,
   "id": "mature-marine",
   "metadata": {},
   "outputs": [
    {
     "data": {
      "text/plain": [
       "MHDFlows Problem\n",
       "  │    Funtions\n",
       "  │     ├──────── B-field: ON\n",
       "  ├─────├────── VP Method: ON\n",
       "  │     ├──────────── Dye: OFF\n",
       "  │     └── user function: OFF\n",
       "  │                        \n",
       "  │     Features           \n",
       "  │     ├─────────── grid: grid (on GPU)\n",
       "  │     ├───── parameters: params\n",
       "  │     ├────── variables: vars\n",
       "  └─────├─── state vector: sol\n",
       "        ├─────── equation: eqn\n",
       "        ├────────── clock: clock\n",
       "        └──── timestepper: RK4TimeStepper"
      ]
     },
     "execution_count": 3,
     "metadata": {},
     "output_type": "execute_result"
    }
   ],
   "source": [
    "#parameters\n",
    "N = 150;\n",
    "Nz= 150;\n",
    "Lx = 2π;\n",
    "\n",
    "Re = 120;\n",
    "Rₑ,Rᵢ = 0.82*pi,0.32*pi\n",
    "L  = Rₑ - Rᵢ;\n",
    "U  = 1;\n",
    "ν  = U*L/Re\n",
    "η  = ν;\n",
    "dt = 5e-3;\n",
    "\n",
    "#Define the mean-field\n",
    "Ha = 7\n",
    "B0 = √(η*ν)/L*Ha\n",
    "\n",
    "# Testing the problem \n",
    "nothingfunction(args...) = nothing;\n",
    "GPUprob = Problem(GPU();\n",
    "        # Numerical parameters\n",
    "                      nx = N,\n",
    "                      Lx = 2π,\n",
    "                      ny = N,\n",
    "                      nz = Nz,\n",
    "         # Drag and/or hyper-viscosity for velocity/B-field\n",
    "                       ν = ν,\n",
    "                      nν = 1,\n",
    "                       η = η,\n",
    "        # B-field & VP method\n",
    "                 B_field = true,\n",
    "               VP_method = true,\n",
    "        # Timestepper and equation options\n",
    "                      dt = dt,\n",
    "                 stepper = \"RK4\",\n",
    "        # Force Driving parameters       \n",
    "                   calcF = nothingfunction,\n",
    "        # Float type and dealiasing\n",
    "                       T = Float32)"
   ]
  },
  {
   "cell_type": "code",
   "execution_count": 4,
   "id": "emotional-evolution",
   "metadata": {},
   "outputs": [
    {
     "data": {
      "text/plain": [
       "ProblemGeneratorTC3D! (generic function with 1 method)"
      ]
     },
     "execution_count": 4,
     "metadata": {},
     "output_type": "execute_result"
    }
   ],
   "source": [
    "function ProblemGeneratorTC3D!(prob,B0;L0=2π,R₂=0.82π,R₁=0.32π)\n",
    "  grid = prob.grid;\n",
    "    \n",
    "  # Output Setting  \n",
    "  T = eltype(grid);\n",
    "  x = Array(grid.x);\n",
    "  y = Array(grid.y);\n",
    "  z = Array(grid.z);\n",
    "  nx,ny,nz = grid.nx,grid.ny,grid.nz;\n",
    "\n",
    "  # Define χ\n",
    "  χ = Cylindrical_Mask_Function(prob.grid; R₂=R₂, R₁=R₁)  \n",
    "  copyto!(prob.params.χ, Array(χ));  \n",
    "    \n",
    "  @devzeros  typeof(CPU()) T (nx,ny,nz) ux uy uz bz U₀x U₀y\n",
    "  V₀ = 1;\n",
    "  r₀ = 0.32π;  \n",
    "    \n",
    "  # Setup: Uθ = 1 if r ∈ 0.32π\n",
    "  # Uθ =  r(dθ/dt) ê_θ\n",
    "  # ̂e_θ  = - sinθ ̂i + cosθ ̂j; \n",
    "  for k ∈ 1:nz::Int,j ∈ 1:ny::Int\n",
    "    @simd for i ∈ 1:nx::Int\n",
    "        r = sqrt(x[i]^2+y[j]^2);\n",
    "        θ = atan(y[j],x[i]) ;\n",
    "        θ = isnan(θ) ? π/2 : θ\n",
    "        sinθ = sin(θ);\n",
    "        cosθ = cos(θ);\n",
    "        #sinθ =  θ < 0 ? sin(-θ) : sin(θ)\n",
    "        uz[i,j,k] =  ifelse(χ[i,j,k], 0,(rand(Float32,1)[1]-0.5)*1e-5);\n",
    "        bz[i,j,k] =  B0;\n",
    "        if r<=0.32π    \n",
    "            ux[i,j,k] =  -r*sinθ;\n",
    "            uy[i,j,k] =   r*cosθ;\n",
    "            U₀x[i,j,k] = -r*sinθ;\n",
    "            U₀y[i,j,k] =  r*cosθ;  \n",
    "        end        \n",
    "    end\n",
    "  end\n",
    "  \n",
    "  # Crypto data   \n",
    "  SetUpProblemIC!(prob; ux = ux, uy = uy, uz = uz,\n",
    "                        bz = bz,\n",
    "                        U₀x=U₀x, U₀y=U₀y,\n",
    "                        B₀z=bz);\n",
    "      \n",
    "  return nothing\n",
    "end"
   ]
  },
  {
   "cell_type": "code",
   "execution_count": 5,
   "id": "turkish-relay",
   "metadata": {},
   "outputs": [],
   "source": [
    "# Setting up the Initial condition for both domain\n",
    "ProblemGeneratorTC3D!(GPUprob,B0;L0=2π)\n",
    "Ux,Uy = Array(GPUprob.params.U₀x),Array(GPUprob.params.U₀y);\n",
    "Ur,Uθ = xy_to_polar(Ux,Uy);"
   ]
  },
  {
   "cell_type": "markdown",
   "id": "decreased-handle",
   "metadata": {},
   "source": [
    "## The Solid Domain and Initial condition illustration"
   ]
  },
  {
   "cell_type": "code",
   "execution_count": 6,
   "id": "forward-liberia",
   "metadata": {},
   "outputs": [
    {
     "data": {
      "image/png": "[encoded data removed]",
      "text/plain": [
       "Figure(PyObject <Figure size 1200x600 with 2 Axes>)"
      ]
     },
     "metadata": {},
     "output_type": "display_data"
    }
   ],
   "source": [
    "A  = ones(size(Ux));\n",
    "χ = Array(GPUprob.params.χ);\n",
    "A[χ.==1].=NaN;\n",
    "figure(figsize=(12,6))\n",
    "subplot(121);\n",
    "imshow(χ[:,:,1]);\n",
    "title(L\"Domin\\:function\\:\\chi\");\n",
    "subplot(122);\n",
    "imshow((A.*Uθ)[:,:,1]);\n",
    "title(L\"U_\\theta\");"
   ]
  },
  {
   "cell_type": "code",
   "execution_count": null,
   "id": "effective-feedback",
   "metadata": {
    "tags": []
   },
   "outputs": [
    {
     "name": "stdout",
     "output_type": "stream",
     "text": [
      "n =     1000, t =     11.0, KE =     8.59, ME=    0.844\n",
      "n =     2000, t =     21.9, KE =     12.0, ME=    0.844\n",
      "n =     3000, t =     32.8, KE =     14.3, ME=    0.844\n",
      "n =     4000, t =     43.8, KE =     15.6, ME=    0.844\n",
      "n =     5000, t =     54.7, KE =     16.5, ME=    0.844\n",
      "n =     6000, t =     65.6, KE =     16.9, ME=    0.844\n",
      "n =     7000, t =     76.5, KE =     17.2, ME=    0.844\n",
      "n =     8000, t =     87.4, KE =     17.4, ME=    0.844\n",
      "n =     9000, t =     98.3, KE =     17.4, ME=    0.844\n",
      "n =    10000, t =    109.0, KE =     17.5, ME=    0.844\n",
      "n =    11000, t =    120.0, KE =     17.5, ME=    0.844\n",
      "n =    12000, t =    131.0, KE =     17.5, ME=    0.844\n",
      "n =    13000, t =    142.0, KE =     17.5, ME=    0.844\n",
      "n =    14000, t =    153.0, KE =     17.5, ME=    0.844\n",
      "n =    15000, t =    164.0, KE =     17.5, ME=    0.845\n",
      "n =    16000, t =    175.0, KE =     17.4, ME=    0.858\n",
      "n =    17000, t =    185.0, KE =     16.6, ME=    0.925\n",
      "n =    18000, t =    196.0, KE =     15.0, ME=    0.868\n",
      "n =    19000, t =    207.0, KE =     14.4, ME=     0.76\n",
      "n =    20000, t =    218.0, KE =     14.4, ME=     0.72\n"
     ]
    }
   ],
   "source": [
    "# Set up the initial condition\n",
    "@CUDA.time TimeIntegrator!(GPUprob, 300.0,500000;\n",
    "                                   diags = [],\n",
    "                             loop_number = 1000,\n",
    "                                    save = false,\n",
    "                                save_loc = \"\",\n",
    "                                filename = \"\",\n",
    "                                  dump_dt = 0)"
   ]
  },
  {
   "cell_type": "code",
   "execution_count": null,
   "id": "bridal-administration",
   "metadata": {},
   "outputs": [],
   "source": [
    "iv,jv,kv = Array(GPUprob.vars.ux),Array(GPUprob.vars.uy),Array(GPUprob.vars.uz);\n",
    "ib,jb,kb = Array(GPUprob.vars.bx),Array(GPUprob.vars.by),Array(GPUprob.vars.bz);\n",
    "Ur,Uθ = xy_to_polar(iv,jv);\n",
    "\n",
    "figure(figsize=(18,6))\n",
    "\n",
    "subplot(131)\n",
    "imshow((A.*kv)[div(N,2),:,:]',cmap=\"jet\");colorbar();\n",
    "title(L\"U_z\\:(r-z\\:plane)\",size=16)\n",
    "\n",
    "\n",
    "subplot(132)\n",
    "title(L\"U_\\theta\\:(r-\\theta\\:plane)\",size=16)\n",
    "Uθ2D = (A .*Uθ)[:,:,30];\n",
    "meanTA = mean(Uθ2D[.~isnan.(Uθ2D)]);\n",
    "stdTA  =  std(Uθ2D[.~isnan.(Uθ2D)]);\n",
    "imshow(Uθ2D,vmin=meanTA-2stdTA,vmax=meanTA+2stdTA,cmap=\"jet\");colorbar()\n",
    "\n",
    "\n",
    "subplot(133)\n",
    "title(L\"B_z\\:(r-z\\:plane)\",size=16)\n",
    "imshow((A.*kb)[:,div(N,2),:]',cmap=\"jet\");colorbar();"
   ]
  }
 ],
 "metadata": {
  "kernelspec": {
   "display_name": "Julia (8 threads) 1.7.3",
   "language": "julia",
   "name": "julia-(8-threads)-1.7"
  },
  "language_info": {
   "file_extension": ".jl",
   "mimetype": "application/julia",
   "name": "julia",
   "version": "1.7.3"
  }
 },
 "nbformat": 4,
 "nbformat_minor": 5
}
