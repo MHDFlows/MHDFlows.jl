{
 "cells": [
  {
   "cell_type": "markdown",
   "id": "dangerous-worcester",
   "metadata": {},
   "source": [
    "# 3D MHD Example : Orszag Tang Vortex\n",
    "\n",
    "In this notebook, we will reproduce the Orszag Tang Vortex using MHDFlows. We follow the setup from  [Morales et al. 2014](http://dx.doi.org/10.1016/j.jcp.2014.05.038) Section 6.1"
   ]
  },
  {
   "cell_type": "code",
   "execution_count": 1,
   "id": "presidential-contractor",
   "metadata": {},
   "outputs": [
    {
     "name": "stderr",
     "output_type": "stream",
     "text": [
      "┌ Info: Precompiling MHDFlows [top-level]\n",
      "└ @ Base loading.jl:1664\n",
      "\u001b[36m\u001b[1m[ \u001b[22m\u001b[39m\u001b[36m\u001b[1mInfo: \u001b[22m\u001b[39mFourierFlows will use 8 threads\n",
      "┌ Info: FourierFlows will use 8 threads\n",
      "└ @ FourierFlows /mnt/d/julialib/FourierFlows.jl_myfork/src/FourierFlows.jl:116\n"
     ]
    }
   ],
   "source": [
    "using MHDFlows\n",
    "using CUDA\n",
    "using PyPlot\n",
    "using HDF5,FFTW\n",
    "using LinearAlgebra: mul!, ldiv!\n",
    "using Statistics"
   ]
  },
  {
   "cell_type": "code",
   "execution_count": null,
   "id": "formed-syntax",
   "metadata": {},
   "outputs": [],
   "source": [
    "device!(0)\n",
    "device()"
   ]
  },
  {
   "cell_type": "code",
   "execution_count": 2,
   "id": "little-authorization",
   "metadata": {},
   "outputs": [
    {
     "data": {
      "text/plain": [
       "ProblemGeneratorOhm! (generic function with 1 method)"
      ]
     },
     "execution_count": 2,
     "metadata": {},
     "output_type": "execute_result"
    }
   ],
   "source": [
    "function ProblemGeneratorOhm!(prob;L0=2π,β = 0.8)\n",
    "  # Output Setting  \n",
    "  x = Array(prob.grid.x);\n",
    "  y = Array(prob.grid.y);\n",
    "  z = Array(prob.grid.z);\n",
    "  T = eltype(prob.grid);\n",
    "  nx,ny,nz = prob.grid.nx,prob.grid.ny,prob.grid.nz;\n",
    "  @devzeros typeof(CPU()) T (nx,ny,nz) ux uy bx by bz\n",
    "\n",
    "  for k = 1:nz::Int, j = 1:ny::Int\n",
    "     @simd for i = 1:nx::Int\n",
    "        ux[i,j,k] = -2*sin(y[j]);\n",
    "        uy[i,j,k] =  2*sin(x[i]);\n",
    "        bx[i,j,k] = β*(-2*sin(2y[j]) + sin(z[k]));\n",
    "        by[i,j,k] = β*(2*sin(x[i]) + sin(z[k]));\n",
    "        bz[i,j,k] = β*( sin(x[i]) + sin(y[j]));\n",
    "     end\n",
    "  end\n",
    "  SetUpProblemIC!(prob; ux = ux, uy = uy,\n",
    "                        bx = bx, by = by, bz = bz);\n",
    "  return nothing  \n",
    "end"
   ]
  },
  {
   "cell_type": "code",
   "execution_count": 3,
   "id": "periodic-federation",
   "metadata": {},
   "outputs": [
    {
     "data": {
      "text/plain": [
       "MHDFlows Problem\n",
       "  │    Funtions\n",
       "  │     ├──────── B-field: ON\n",
       "  ├─────├────── VP Method: OFF\n",
       "  │     ├──────────── Dye: OFF\n",
       "  │     └── user function: OFF\n",
       "  │                        \n",
       "  │     Features           \n",
       "  │     ├─────────── grid: grid (on GPU)\n",
       "  │     ├───── parameters: params\n",
       "  │     ├────── variables: vars\n",
       "  └─────├─── state vector: sol\n",
       "        ├─────── equation: eqn\n",
       "        ├────────── clock: clock\n",
       "        └──── timestepper: RK4TimeStepper"
      ]
     },
     "execution_count": 3,
     "metadata": {},
     "output_type": "execute_result"
    }
   ],
   "source": [
    "#parameters\n",
    "N =  128;\n",
    "Nz=  128;#div(N,32);\n",
    "Lx = 2π;\n",
    "ν,η = 0.005,0.005;\n",
    "dt  = 2.5e-3;\n",
    "# Testing the problem \n",
    "nothingfunction(args...) = nothing;\n",
    "GPUprob = Problem(GPU();\n",
    "        # Numerical parameters\n",
    "                      nx = N,\n",
    "                      Lx = Lx,\n",
    "                      ny = N,\n",
    "                      nz = Nz,\n",
    "         # Drag and/or hyper-viscosity for velocity/B-field\n",
    "                       ν = ν,\n",
    "                      nν = 1,\n",
    "                       η = η,\n",
    "        # B-field & VP method\n",
    "                 B_field = true,\n",
    "               VP_method = false,\n",
    "        # Timestepper and equation options\n",
    "                      dt = dt,\n",
    "                 stepper = \"RK4\",\n",
    "        # Force Driving parameters       \n",
    "                   calcF = nothingfunction,\n",
    "        # Float type and dealiasing\n",
    "                       T = Float32)"
   ]
  },
  {
   "cell_type": "code",
   "execution_count": 4,
   "id": "present-newport",
   "metadata": {},
   "outputs": [
    {
     "data": {
      "image/png": "[encoded data removed]",
      "text/plain": [
       "Figure(PyObject <Figure size 1200x600 with 4 Axes>)"
      ]
     },
     "metadata": {},
     "output_type": "display_data"
    },
    {
     "data": {
      "text/plain": [
       "PyObject <matplotlib.colorbar.Colorbar object at 0x7fea99544a90>"
      ]
     },
     "execution_count": 4,
     "metadata": {},
     "output_type": "execute_result"
    }
   ],
   "source": [
    "ProblemGeneratorOhm!(GPUprob);\n",
    "figure(figsize=(12,6))\n",
    "subplot(121)\n",
    "imshow(Array(GPUprob.vars.ux)[:,:,1])\n",
    "title(L\"U_x\");\n",
    "colorbar()\n",
    "\n",
    "subplot(122)\n",
    "imshow(Array(GPUprob.vars.bx)[:,:,1])\n",
    "title(L\"B_x\");\n",
    "colorbar()"
   ]
  },
  {
   "cell_type": "code",
   "execution_count": 5,
   "id": "pressed-disposition",
   "metadata": {},
   "outputs": [],
   "source": [
    "function Getjmax(prob)\n",
    "    bx,by,bz = prob.vars.bx,prob.vars.by,prob.vars.bz;\n",
    "    j1,j2,j3 =  Curl(bx,by,bz,prob.grid);\n",
    "    maxj = √(maximum(j1.^2 .+ j2.^2 .+ j3.^2));\n",
    "    return maxj;\n",
    "end\n",
    "maxjs = MHDFlows.Diagnostic(Getjmax, GPUprob,freq=50);"
   ]
  },
  {
   "cell_type": "code",
   "execution_count": 6,
   "id": "wired-cartoon",
   "metadata": {},
   "outputs": [
    {
     "name": "stderr",
     "output_type": "stream",
     "text": [
      "┌ Warning: ProgressMeter by default refresh meters with additional information in IJulia via `IJulia.clear_output`, which clears all outputs in the cell. \n",
      "│  - To prevent this behaviour, do `ProgressMeter.ijulia_behavior(:append)`. \n",
      "│  - To disable this warning message, do `ProgressMeter.ijulia_behavior(:clear)`.\n",
      "└ @ ProgressMeter /home/doraho/.julia/packages/ProgressMeter/sN2xr/src/ProgressMeter.jl:618\n",
      "\u001b[32mSimulation in rogress :   4%|▃         |  ETA: 0:16:20 (20.42 ms/it)\u001b[39m\n",
      "\u001b[34m  Progress:    iter/Nₒ = 1997/50000, t/t₀ = 4.99/5.0\u001b[39m\n",
      "\u001b[34m  Statistics:  KE = 246.0, ME = 413.0\u001b[39m"
     ]
    },
    {
     "name": "stdout",
     "output_type": "stream",
     "text": [
      "Total CPU/GPU time run = 40.83 s, zone update per second = 1.02725000911e8 \n",
      " 42.778270 seconds (87.95 M CPU allocations: 7.707 GiB, 3.21% gc time) (124.60 k GPU allocations: 922.077 GiB, 1.22% memmgmt time)\n"
     ]
    }
   ],
   "source": [
    "GPUprob.clock.t = 0\n",
    "@CUDA.time TimeIntegrator!(GPUprob, 5.0,50000;\n",
    "                                   usr_dt = dt,\n",
    "                                    diags = [maxjs],\n",
    "                              loop_number = 100);"
   ]
  },
  {
   "cell_type": "code",
   "execution_count": 7,
   "id": "continued-personal",
   "metadata": {},
   "outputs": [
    {
     "data": {
      "image/png": "[encoded data removed]",
      "text/plain": [
       "Figure(PyObject <Figure size 640x480 with 1 Axes>)"
      ]
     },
     "metadata": {},
     "output_type": "display_data"
    },
    {
     "data": {
      "text/plain": [
       "(3, 150)"
      ]
     },
     "execution_count": 7,
     "metadata": {},
     "output_type": "execute_result"
    }
   ],
   "source": [
    "n = maxjs.i;\n",
    "t = maxjs.t[1:n];\n",
    "j = maxjs.data[1:n];\n",
    "plot(t,j)\n",
    "loglog()\n",
    "xlim(0.1,4)\n",
    "ylim(3,150)"
   ]
  },
  {
   "cell_type": "markdown",
   "id": "another-acrylic",
   "metadata": {},
   "source": [
    "# $256^3$ Case"
   ]
  },
  {
   "cell_type": "code",
   "execution_count": 8,
   "id": "equipped-preserve",
   "metadata": {},
   "outputs": [
    {
     "data": {
      "text/plain": [
       "MHDFlows Problem\n",
       "  │    Funtions\n",
       "  │     ├──────── B-field: ON\n",
       "  ├─────├────── VP Method: OFF\n",
       "  │     ├──────────── Dye: OFF\n",
       "  │     └── user function: OFF\n",
       "  │                        \n",
       "  │     Features           \n",
       "  │     ├─────────── grid: grid (on GPU)\n",
       "  │     ├───── parameters: params\n",
       "  │     ├────── variables: vars\n",
       "  └─────├─── state vector: sol\n",
       "        ├─────── equation: eqn\n",
       "        ├────────── clock: clock\n",
       "        └──── timestepper: RK4TimeStepper"
      ]
     },
     "execution_count": 8,
     "metadata": {},
     "output_type": "execute_result"
    }
   ],
   "source": [
    "#parameters\n",
    "N =  256;\n",
    "Nz=  256;#div(N,32);\n",
    "Lx = 2π;\n",
    "ν,η = 0.001,0.001;\n",
    "dt  = 2.5e-3;\n",
    "# Testing the problem \n",
    "nothingfunction(args...) = nothing;\n",
    "GPUprob = Problem(GPU();\n",
    "        # Numerical parameters\n",
    "                      nx = N,\n",
    "                      Lx = Lx,\n",
    "                      ny = N,\n",
    "                      nz = Nz,\n",
    "         # Drag and/or hyper-viscosity for velocity/B-field\n",
    "                       ν = ν,\n",
    "                      nν = 1,\n",
    "                       η = η,\n",
    "        # B-field & VP method\n",
    "                 B_field = true,\n",
    "               VP_method = false,\n",
    "        # Timestepper and equation options\n",
    "                      dt = dt,\n",
    "                 stepper = \"RK4\",\n",
    "        # Force Driving parameters       \n",
    "                   calcF = nothingfunction,\n",
    "        # Float type and dealiasing\n",
    "                       T = Float32)"
   ]
  },
  {
   "cell_type": "code",
   "execution_count": 9,
   "id": "emerging-english",
   "metadata": {},
   "outputs": [],
   "source": [
    "function Getjmax(prob)\n",
    "    bx,by,bz = prob.vars.bx,prob.vars.by,prob.vars.bz;\n",
    "    j1,j2,j3 =  Curl(bx,by,bz,prob.grid);\n",
    "    maxj = √(maximum(j1.^2 .+ j2.^2 .+ j3.^2));\n",
    "    return maxj;\n",
    "end\n",
    "maxjs2 = MHDFlows.Diagnostic(Getjmax, GPUprob,freq=50);"
   ]
  },
  {
   "cell_type": "code",
   "execution_count": 10,
   "id": "overhead-increase",
   "metadata": {},
   "outputs": [
    {
     "name": "stderr",
     "output_type": "stream",
     "text": [
      "┌ Warning: ProgressMeter by default refresh meters with additional information in IJulia via `IJulia.clear_output`, which clears all outputs in the cell. \n",
      "│  - To prevent this behaviour, do `ProgressMeter.ijulia_behavior(:append)`. \n",
      "│  - To disable this warning message, do `ProgressMeter.ijulia_behavior(:clear)`.\n",
      "└ @ ProgressMeter /home/doraho/.julia/packages/ProgressMeter/sN2xr/src/ProgressMeter.jl:618\n",
      "\u001b[32mSimulation in rogress :   4%|▃         |  ETA: 2:24:47 ( 0.18  s/it)\u001b[39m\n",
      "\u001b[34m  Progress:    iter/Nₒ = 2000/50000, t/t₀ = 5.0/5.0\u001b[39m\n",
      "\u001b[34m  Statistics:  KE = 287.0, ME = 553.0\u001b[39m"
     ]
    },
    {
     "name": "stdout",
     "output_type": "stream",
     "text": [
      "Total CPU/GPU time run = 361.948 s, zone update per second = 9.2705091293e7 \n",
      "361.948240 seconds (38.84 M CPU allocations: 5.266 GiB, 0.32% gc time) (124.60 k GPU allocations: 7.158 TiB, 10.54% memmgmt time)\n"
     ]
    }
   ],
   "source": [
    "ProblemGeneratorOhm!(GPUprob);\n",
    "@CUDA.time TimeIntegrator!(GPUprob, 5.0,50000;\n",
    "                                   usr_dt = dt,\n",
    "                                    diags = [maxjs2],\n",
    "                              loop_number = 100);"
   ]
  },
  {
   "cell_type": "code",
   "execution_count": 11,
   "id": "impossible-cornell",
   "metadata": {},
   "outputs": [
    {
     "data": {
      "image/png": "[encoded data removed]",
      "text/plain": [
       "Figure(PyObject <Figure size 640x480 with 1 Axes>)"
      ]
     },
     "metadata": {},
     "output_type": "display_data"
    },
    {
     "data": {
      "text/plain": [
       "(3, 350)"
      ]
     },
     "execution_count": 11,
     "metadata": {},
     "output_type": "execute_result"
    }
   ],
   "source": [
    "n = maxjs2.i;\n",
    "t = maxjs2.t[1:n];\n",
    "j = maxjs2.data[1:n];\n",
    "plot(t,j)\n",
    "loglog()\n",
    "xlim(0.1,4)\n",
    "ylim(3,350)"
   ]
  },
  {
   "cell_type": "code",
   "execution_count": null,
   "id": "silver-egyptian",
   "metadata": {},
   "outputs": [],
   "source": []
  },
  {
   "cell_type": "code",
   "execution_count": null,
   "id": "6cb50663-84fd-4e09-82a2-20ccfc0982b0",
   "metadata": {},
   "outputs": [],
   "source": []
  }
 ],
 "metadata": {
  "kernelspec": {
   "display_name": "Julia (8 threads) 1.8.2",
   "language": "julia",
   "name": "julia-(8-threads)-1.8"
  },
  "language_info": {
   "file_extension": ".jl",
   "mimetype": "application/julia",
   "name": "julia",
   "version": "1.8.2"
  }
 },
 "nbformat": 4,
 "nbformat_minor": 5
}
