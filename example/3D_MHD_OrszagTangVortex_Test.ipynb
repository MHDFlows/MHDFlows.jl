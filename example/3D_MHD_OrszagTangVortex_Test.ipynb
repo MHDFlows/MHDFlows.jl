{
 "cells": [
  {
   "cell_type": "markdown",
   "id": "dangerous-worcester",
   "metadata": {},
   "source": [
    "# 3D MHD Example : Orszag Tang Vortex\n",
    "\n",
    "In this notebook, we will reproduce the Orszag Tang Vortex using MHDFlows. We follow the setup from  [Morales et al. 2014](http://dx.doi.org/10.1016/j.jcp.2014.05.038) Section 6.1"
   ]
  },
  {
   "cell_type": "code",
   "execution_count": 1,
   "id": "presidential-contractor",
   "metadata": {},
   "outputs": [
    {
     "name": "stderr",
     "output_type": "stream",
     "text": [
      "┌ Info: Precompiling MHDFlows [top-level]\n",
      "└ @ Base loading.jl:1423\n"
     ]
    }
   ],
   "source": [
    "using MHDFlows\n",
    "using CUDA\n",
    "using PyPlot\n",
    "using HDF5,FFTW,FourierFlows\n",
    "using LinearAlgebra: mul!, ldiv!\n",
    "using Statistics"
   ]
  },
  {
   "cell_type": "code",
   "execution_count": 2,
   "id": "formed-syntax",
   "metadata": {},
   "outputs": [
    {
     "data": {
      "text/plain": [
       "CuDevice(0): NVIDIA GeForce RTX 3080"
      ]
     },
     "execution_count": 2,
     "metadata": {},
     "output_type": "execute_result"
    }
   ],
   "source": [
    "device!(0)\n",
    "device()"
   ]
  },
  {
   "cell_type": "code",
   "execution_count": 3,
   "id": "little-authorization",
   "metadata": {},
   "outputs": [
    {
     "data": {
      "text/plain": [
       "ProblemGeneratorOhm! (generic function with 1 method)"
      ]
     },
     "execution_count": 3,
     "metadata": {},
     "output_type": "execute_result"
    }
   ],
   "source": [
    "function ProblemGeneratorOhm!(prob;L0=2π,β = 0.8)\n",
    "  # Output Setting  \n",
    "  x = Array(prob.grid.x);\n",
    "  y = Array(prob.grid.y);\n",
    "  z = Array(prob.grid.z);\n",
    "  T = eltype(prob.grid);\n",
    "  nx,ny,nz = prob.grid.nx,prob.grid.ny,prob.grid.nz;\n",
    "  @devzeros typeof(CPU()) T (nx,ny,nz) ux uy bx by bz\n",
    "\n",
    "  for k = 1:nz::Int, j = 1:ny::Int\n",
    "     @simd for i = 1:nx::Int\n",
    "        ux[i,j,k] = -2*sin(y[j]);\n",
    "        uy[i,j,k] =  2*sin(x[i]);\n",
    "        bx[i,j,k] = β*(-2*sin(2y[j]) + sin(z[k]));\n",
    "        by[i,j,k] = β*(2*sin(x[i]) + sin(z[k]));\n",
    "        bz[i,j,k] = β*( sin(x[i]) + sin(y[j]));\n",
    "     end\n",
    "  end\n",
    "  SetUpProblemIC!(prob; ux = ux, uy = uy,\n",
    "                        bx = bx, by = by, bz = bz);\n",
    "  return nothing  \n",
    "end"
   ]
  },
  {
   "cell_type": "code",
   "execution_count": 13,
   "id": "periodic-federation",
   "metadata": {},
   "outputs": [
    {
     "data": {
      "text/plain": [
       "MHDFlows Problem\n",
       "  │    Funtions\n",
       "  │     ├──────── B-field: ON\n",
       "  ├─────├────── VP Method: OFF\n",
       "  │     ├──────────── Dye: OFF\n",
       "  │     └── user function: OFF\n",
       "  │                        \n",
       "  │     Features           \n",
       "  │     ├─────────── grid: grid (on GPU)\n",
       "  │     ├───── parameters: params\n",
       "  │     ├────── variables: vars\n",
       "  └─────├─── state vector: sol\n",
       "        ├─────── equation: eqn\n",
       "        ├────────── clock: clock\n",
       "        └──── timestepper: RK4TimeStepper"
      ]
     },
     "execution_count": 13,
     "metadata": {},
     "output_type": "execute_result"
    }
   ],
   "source": [
    "#parameters\n",
    "N =  128;\n",
    "Nz=  128;#div(N,32);\n",
    "Lx = 2π;\n",
    "ν,η = 0.005,0.005;\n",
    "dt  = 2.5e-3;\n",
    "# Testing the problem \n",
    "nothingfunction(args...) = nothing;\n",
    "GPUprob = Problem(GPU();\n",
    "        # Numerical parameters\n",
    "                      nx = N,\n",
    "                      Lx = Lx,\n",
    "                      ny = N,\n",
    "                      nz = Nz,\n",
    "         # Drag and/or hyper-viscosity for velocity/B-field\n",
    "                       ν = ν,\n",
    "                      nν = 1,\n",
    "                       η = η,\n",
    "        # B-field & VP method\n",
    "                 B_field = true,\n",
    "               VP_method = false,\n",
    "        # Timestepper and equation options\n",
    "                      dt = dt,\n",
    "                 stepper = \"RK4\",\n",
    "        # Force Driving parameters       \n",
    "                   calcF = nothingfunction,\n",
    "        # Float type and dealiasing\n",
    "                       T = Float32)"
   ]
  },
  {
   "cell_type": "code",
   "execution_count": 14,
   "id": "present-newport",
   "metadata": {},
   "outputs": [
    {
     "data": {
      "image/png": "[encoded data removed]",
      "text/plain": [
       "Figure(PyObject <Figure size 1200x600 with 4 Axes>)"
      ]
     },
     "metadata": {},
     "output_type": "display_data"
    },
    {
     "data": {
      "text/plain": [
       "PyObject <matplotlib.colorbar.Colorbar object at 0x7fd3f4af8128>"
      ]
     },
     "execution_count": 14,
     "metadata": {},
     "output_type": "execute_result"
    }
   ],
   "source": [
    "ProblemGeneratorOhm!(GPUprob);\n",
    "figure(figsize=(12,6))\n",
    "subplot(121)\n",
    "imshow(Array(GPUprob.vars.ux)[:,:,1])\n",
    "title(L\"U_x\");\n",
    "colorbar()\n",
    "\n",
    "subplot(122)\n",
    "imshow(Array(GPUprob.vars.bx)[:,:,1])\n",
    "title(L\"B_x\");\n",
    "colorbar()"
   ]
  },
  {
   "cell_type": "code",
   "execution_count": 15,
   "id": "pressed-disposition",
   "metadata": {},
   "outputs": [],
   "source": [
    "function Getjmax(prob)\n",
    "    bx,by,bz = prob.vars.bx,prob.vars.by,prob.vars.bz;\n",
    "    j1,j2,j3 =  Curl(bx,by,bz,prob.grid);\n",
    "    maxj = √(maximum(j1.^2 .+ j2.^2 .+ j3.^2));\n",
    "    return maxj;\n",
    "end\n",
    "maxjs = MHDFlows.Diagnostic(Getjmax, GPUprob,freq=50);"
   ]
  },
  {
   "cell_type": "code",
   "execution_count": 16,
   "id": "wired-cartoon",
   "metadata": {},
   "outputs": [
    {
     "name": "stdout",
     "output_type": "stream",
     "text": [
      "n =      100, t =     0.25, KE =    976.0, ME=    962.0\n",
      "n =      200, t =      0.5, KE =    888.0, ME=   1040.0\n",
      "n =      300, t =     0.75, KE =    746.0, ME=   1160.0\n",
      "n =      400, t =      1.0, KE =    633.0, ME=   1230.0\n",
      "n =      500, t =     1.25, KE =    598.0, ME=   1210.0\n",
      "n =      600, t =      1.5, KE =    610.0, ME=   1130.0\n",
      "n =      700, t =     1.75, KE =    631.0, ME=   1040.0\n",
      "n =      800, t =      2.0, KE =    646.0, ME=    934.0\n",
      "n =      900, t =     2.25, KE =    629.0, ME=    859.0\n",
      "n =     1000, t =      2.5, KE =    577.0, ME=    812.0\n",
      "n =     1100, t =     2.75, KE =    514.0, ME=    773.0\n",
      "n =     1200, t =      3.0, KE =    459.0, ME=    731.0\n",
      "n =     1300, t =     3.25, KE =    416.0, ME=    681.0\n",
      "n =     1400, t =      3.5, KE =    381.0, ME=    631.0\n",
      "n =     1500, t =     3.75, KE =    345.0, ME=    590.0\n",
      "n =     1600, t =      4.0, KE =    313.0, ME=    553.0\n",
      "n =     1700, t =     4.25, KE =    289.0, ME=    517.0\n",
      "n =     1800, t =      4.5, KE =    272.0, ME=    479.0\n",
      "n =     1900, t =     4.75, KE =    259.0, ME=    443.0\n",
      "n =     2000, t =      5.0, KE =    245.0, ME=    412.0\n",
      "Total CPU/GPU time run = 98.34 s, zone update per second = 4.2651072872e7 \n",
      " 98.340027 seconds (43.23 M CPU allocations: 5.533 GiB, 0.69% gc time) (120.88 k GPU allocations: 957.817 GiB, 0.49% memmgmt time)\n"
     ]
    }
   ],
   "source": [
    "GPUprob.clock.t = 0\n",
    "@CUDA.time TimeIntegrator!(GPUprob, 5.0,50000;\n",
    "                                   usr_dt = dt,\n",
    "                                    diags = [maxjs],\n",
    "                              loop_number = 100);"
   ]
  },
  {
   "cell_type": "code",
   "execution_count": 17,
   "id": "continued-personal",
   "metadata": {},
   "outputs": [
    {
     "data": {
      "image/png": "[encoded data removed]",
      "text/plain": [
       "Figure(PyObject <Figure size 640x480 with 1 Axes>)"
      ]
     },
     "metadata": {},
     "output_type": "display_data"
    },
    {
     "data": {
      "text/plain": [
       "(3, 150)"
      ]
     },
     "execution_count": 17,
     "metadata": {},
     "output_type": "execute_result"
    }
   ],
   "source": [
    "n = maxjs.i;\n",
    "t = maxjs.t[1:n];\n",
    "j = maxjs.data[1:n];\n",
    "plot(t,j)\n",
    "loglog()\n",
    "xlim(0.1,4)\n",
    "ylim(3,150)"
   ]
  },
  {
   "cell_type": "markdown",
   "id": "another-acrylic",
   "metadata": {},
   "source": [
    "# $256^3$ Case"
   ]
  },
  {
   "cell_type": "code",
   "execution_count": 4,
   "id": "equipped-preserve",
   "metadata": {},
   "outputs": [
    {
     "data": {
      "text/plain": [
       "MHDFlows Problem\n",
       "  │    Funtions\n",
       "  │     ├──────── B-field: ON\n",
       "  ├─────├────── VP Method: OFF\n",
       "  │     ├──────────── Dye: OFF\n",
       "  │     └── user function: OFF\n",
       "  │                        \n",
       "  │     Features           \n",
       "  │     ├─────────── grid: grid (on GPU)\n",
       "  │     ├───── parameters: params\n",
       "  │     ├────── variables: vars\n",
       "  └─────├─── state vector: sol\n",
       "        ├─────── equation: eqn\n",
       "        ├────────── clock: clock\n",
       "        └──── timestepper: RK4TimeStepper"
      ]
     },
     "execution_count": 4,
     "metadata": {},
     "output_type": "execute_result"
    }
   ],
   "source": [
    "#parameters\n",
    "N =  256;\n",
    "Nz=  256;#div(N,32);\n",
    "Lx = 2π;\n",
    "ν,η = 0.001,0.001;\n",
    "dt  = 2.5e-3;\n",
    "# Testing the problem \n",
    "nothingfunction(args...) = nothing;\n",
    "GPUprob = Problem(GPU();\n",
    "        # Numerical parameters\n",
    "                      nx = N,\n",
    "                      Lx = Lx,\n",
    "                      ny = N,\n",
    "                      nz = Nz,\n",
    "         # Drag and/or hyper-viscosity for velocity/B-field\n",
    "                       ν = ν,\n",
    "                      nν = 1,\n",
    "                       η = η,\n",
    "        # B-field & VP method\n",
    "                 B_field = true,\n",
    "               VP_method = false,\n",
    "        # Timestepper and equation options\n",
    "                      dt = dt,\n",
    "                 stepper = \"RK4\",\n",
    "        # Force Driving parameters       \n",
    "                   calcF = nothingfunction,\n",
    "        # Float type and dealiasing\n",
    "                       T = Float32)"
   ]
  },
  {
   "cell_type": "code",
   "execution_count": 5,
   "id": "emerging-english",
   "metadata": {},
   "outputs": [],
   "source": [
    "function Getjmax(prob)\n",
    "    bx,by,bz = prob.vars.bx,prob.vars.by,prob.vars.bz;\n",
    "    j1,j2,j3 =  Curl(bx,by,bz,prob.grid);\n",
    "    maxj = √(maximum(j1.^2 .+ j2.^2 .+ j3.^2));\n",
    "    return maxj;\n",
    "end\n",
    "maxjs2 = MHDFlows.Diagnostic(Getjmax, GPUprob,freq=50);"
   ]
  },
  {
   "cell_type": "code",
   "execution_count": 8,
   "id": "overhead-increase",
   "metadata": {},
   "outputs": [
    {
     "name": "stdout",
     "output_type": "stream",
     "text": [
      "n =      100, t =     0.25, KE =    978.0, ME=    965.0\n",
      "n =      200, t =      0.5, KE =    892.0, ME=   1050.0\n",
      "n =      300, t =     0.75, KE =    752.0, ME=   1180.0\n",
      "n =      400, t =      1.0, KE =    646.0, ME=   1280.0\n",
      "n =      500, t =     1.25, KE =    628.0, ME=   1280.0\n",
      "n =      600, t =      1.5, KE =    660.0, ME=   1220.0\n",
      "n =      700, t =     1.75, KE =    702.0, ME=   1140.0\n",
      "n =      800, t =      2.0, KE =    734.0, ME=   1060.0\n",
      "n =      900, t =     2.25, KE =    719.0, ME=   1010.0\n",
      "n =     1000, t =      2.5, KE =    660.0, ME=    990.0\n",
      "n =     1100, t =     2.75, KE =    597.0, ME=    955.0\n",
      "n =     1200, t =      3.0, KE =    545.0, ME=    905.0\n",
      "n =     1300, t =     3.25, KE =    500.0, ME=    849.0\n",
      "n =     1400, t =      3.5, KE =    454.0, ME=    797.0\n",
      "n =     1500, t =     3.75, KE =    409.0, ME=    752.0\n",
      "n =     1600, t =      4.0, KE =    373.0, ME=    708.0\n",
      "n =     1700, t =     4.25, KE =    344.0, ME=    666.0\n",
      "n =     1800, t =      4.5, KE =    319.0, ME=    628.0\n",
      "n =     1900, t =     4.75, KE =    301.0, ME=    590.0\n",
      "n =     2000, t =      5.0, KE =    287.0, ME=    553.0\n",
      "Total CPU/GPU time run = 714.921 s, zone update per second = 4.693445319e7 \n",
      "716.721306 seconds (95.49 M CPU allocations: 8.228 GiB, 0.39% gc time) (120.88 k GPU allocations: 7.426 TiB, 27.89% memmgmt time)\n"
     ]
    }
   ],
   "source": [
    "ProblemGeneratorOhm!(GPUprob);\n",
    "@CUDA.time TimeIntegrator!(GPUprob, 5.0,50000;\n",
    "                                   usr_dt = dt,\n",
    "                                    diags = [maxjs2],\n",
    "                              loop_number = 100);"
   ]
  },
  {
   "cell_type": "code",
   "execution_count": 11,
   "id": "impossible-cornell",
   "metadata": {},
   "outputs": [
    {
     "data": {
      "image/png": "[encoded data removed]",
      "text/plain": [
       "Figure(PyObject <Figure size 640x480 with 1 Axes>)"
      ]
     },
     "metadata": {},
     "output_type": "display_data"
    },
    {
     "data": {
      "text/plain": [
       "(3, 350)"
      ]
     },
     "execution_count": 11,
     "metadata": {},
     "output_type": "execute_result"
    }
   ],
   "source": [
    "n = maxjs2.i;\n",
    "t = maxjs2.t[1:n];\n",
    "j = maxjs2.data[1:n];\n",
    "plot(t,j)\n",
    "loglog()\n",
    "xlim(0.1,4)\n",
    "ylim(3,350)"
   ]
  },
  {
   "cell_type": "code",
   "execution_count": null,
   "id": "silver-egyptian",
   "metadata": {},
   "outputs": [],
   "source": []
  }
 ],
 "metadata": {
  "kernelspec": {
   "display_name": "Julia 1.7.3",
   "language": "julia",
   "name": "julia-1.7"
  },
  "language_info": {
   "file_extension": ".jl",
   "mimetype": "application/julia",
   "name": "julia",
   "version": "1.7.3"
  }
 },
 "nbformat": 4,
 "nbformat_minor": 5
}
