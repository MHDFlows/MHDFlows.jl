{
 "cells": [
  {
   "cell_type": "markdown",
   "id": "bigger-interstate",
   "metadata": {},
   "source": [
    "# Example 3: Dyanmo with Forcing\n",
    "This example aim to show the implmentation of force module using the MHD solver. The idea of force module is coming from [ApJ..626..853](https://ui.adsabs.harvard.edu/abs/2005ApJ...626..853M/abstract) but more simplified version in this notebook. \n",
    "\n",
    "The result of interation between the force and velocity field would resulting the amplification of weak magnetic field, which usually called the dynamo effect. The example is running on GPU with the resolution of $64^3$. Beaware that the result may not converge on higher resolution, which require the modification of the force module. "
   ]
  },
  {
   "cell_type": "code",
   "execution_count": 1,
   "id": "second-bacon",
   "metadata": {},
   "outputs": [
    {
     "name": "stderr",
     "output_type": "stream",
     "text": [
      "┌ Info: FourierFlows will use 8 threads\n",
      "└ @ FourierFlows /mnt/d/julialib/FourierFlows.jl_myfork/src/FourierFlows.jl:116\n"
     ]
    }
   ],
   "source": [
    "using MHDFlows,PyPlot,CUDA\n",
    "using LinearAlgebra: mul!, ldiv!"
   ]
  },
  {
   "cell_type": "code",
   "execution_count": 2,
   "id": "imposed-inventory",
   "metadata": {},
   "outputs": [
    {
     "data": {
      "text/plain": [
       "CuDevice(1): NVIDIA GeForce RTX 3080"
      ]
     },
     "execution_count": 2,
     "metadata": {},
     "output_type": "execute_result"
    }
   ],
   "source": [
    "device!(1)"
   ]
  },
  {
   "cell_type": "code",
   "execution_count": 3,
   "id": "adequate-daughter",
   "metadata": {},
   "outputs": [
    {
     "data": {
      "text/plain": [
       "AddForceGPU! (generic function with 1 method)"
      ]
     },
     "execution_count": 3,
     "metadata": {},
     "output_type": "execute_result"
    }
   ],
   "source": [
    "#force module\n",
    "#GPU version\n",
    "function AddForceGPU!(N, sol, t, clock, vars, params, grid)\n",
    "    # ∂u_ih∂t + Fv_TG, here we assume F is some constant\n",
    "    F0 = 1.37;\n",
    "    N0 = grid.nx;\n",
    "    l = 2;\n",
    "    T = eltype(grid);\n",
    "    fx,fy,fz = zeros(T,N0,N0,N0),zeros(T,N0,N0,N0),zeros(T,N0,N0,N0);\n",
    "    # Real Space Computation of force function\n",
    "    for k ∈ 1:N0, j ∈ 1:N0, i ∈ 1:N0\n",
    "        xx = l*grid.x[i];\n",
    "        yy = l*grid.y[j];\n",
    "        zz = l*grid.z[k];\n",
    "        # f = F*v_TG\n",
    "        fx[i,j,k] =   sin(xx)*cos(yy)*cos(zz);\n",
    "        fy[i,j,k] =  -cos(xx)*sin(yy)*cos(zz);\n",
    "        fz[i,j,k] =  0;\n",
    "    end\n",
    "\n",
    "    for (u_ind,f_i) ∈ zip([params.ux_ind,params.uy_ind,params.uz_ind],[fx,fy,fz])\n",
    "        @. vars.nonlinh1*=0;\n",
    "        copyto!(vars.nonlin1, F0.*f_i);\n",
    "        fk_i = vars.nonlinh1;\n",
    "        @. fk_i*=0;\n",
    "        mul!(fk_i, grid.rfftplan, vars.nonlin1);  \n",
    "        @. N[:,:,:,u_ind] += fk_i;\n",
    "    end\n",
    "end"
   ]
  },
  {
   "cell_type": "code",
   "execution_count": 4,
   "id": "fresh-rubber",
   "metadata": {},
   "outputs": [
    {
     "data": {
      "text/plain": [
       "MHDFlows Problem\n",
       "  │    Funtions\n",
       "  │     ├──────── B-field: ON\n",
       "  ├─────├────── VP Method: OFF\n",
       "  │     ├──────────── Dye: OFF\n",
       "  │     └── user function: OFF\n",
       "  │                        \n",
       "  │     Features           \n",
       "  │     ├─────────── grid: grid (on GPU)\n",
       "  │     ├───── parameters: params\n",
       "  │     ├────── variables: vars\n",
       "  └─────├─── state vector: sol\n",
       "        ├─────── equation: eqn\n",
       "        ├────────── clock: clock\n",
       "        └──── timestepper: RK4TimeStepper"
      ]
     },
     "execution_count": 4,
     "metadata": {},
     "output_type": "execute_result"
    }
   ],
   "source": [
    "#parameters\n",
    "N = 64;\n",
    "Lx = 2π;\n",
    "ν,η = 2e-3,5e-3;\n",
    "dt = 1/50;\n",
    "\n",
    "# Testing the problem\n",
    "# Declare the problem on GPU\n",
    "GPUprob  = Problem(GPU();nx = N,\n",
    "                         Lx = Lx,\n",
    "                          ν = ν,\n",
    "                         nν = 1,\n",
    "                       #B-field \n",
    "                    B_field = true,\n",
    "           # Timestepper and equation options\n",
    "                         dt = dt,\n",
    "                    stepper = \"RK4\",\n",
    "                      calcF = AddForceGPU!,\n",
    "           # Float type and dealiasing\n",
    "                          T = Float32);\n",
    "GPUprob"
   ]
  },
  {
   "cell_type": "code",
   "execution_count": 5,
   "id": "driving-lithuania",
   "metadata": {},
   "outputs": [
    {
     "data": {
      "text/plain": [
       "ProblemGeneratorTG! (generic function with 1 method)"
      ]
     },
     "execution_count": 5,
     "metadata": {},
     "output_type": "execute_result"
    }
   ],
   "source": [
    "function ProblemGeneratorTG!(prob,L0,N)\n",
    "\n",
    "  # Output Setting  \n",
    "  xx,yy,zz = fill(0.0,N,N,N),fill(0.0,N,N,N),fill(0.0,N,N,N);\n",
    "  \n",
    " l = 2*2*π/L0;    \n",
    "  for k ∈ 1:N, j ∈ 1:N, i ∈ 1:N\n",
    "    xx[i,j,k] = l*prob.grid.x[i];\n",
    "    yy[i,j,k] = l*prob.grid.y[j];\n",
    "    zz[i,j,k] = l*prob.grid.z[k];\n",
    "  end\n",
    "    \n",
    "  ux = @.  sin(xx)*cos(yy)*cos(zz);\n",
    "  uy = @.  -cos(xx)*sin(yy)*cos(zz);\n",
    "  uz = @.  fill(0.0,N,N,N);\n",
    "\n",
    "  bx = @. sqrt(1e-3)*ux;\n",
    "  by = @. sqrt(1e-3)*uy;\n",
    "  bz = @. sqrt(1e-3)*uz;        \n",
    "    \n",
    "  # Crypto data   \n",
    "  SetUpProblemIC!(prob; ux = ux, uy = uy, uz = uz,\n",
    "                        bx = bx, by = by, bz = bz);\n",
    "  return nothing\n",
    "end"
   ]
  },
  {
   "cell_type": "code",
   "execution_count": 6,
   "id": "rotary-efficiency",
   "metadata": {},
   "outputs": [],
   "source": [
    "#function for monitoring the energy\n",
    "function KEfoo(prob)\n",
    "    vx,vy,vz = prob.vars.ux,prob.vars.uy,prob.vars.uz;\n",
    "    return sum(vx.^2+vy.^2 + vz.^2)\n",
    "end\n",
    "\n",
    "function MEfoo(prob)\n",
    "    bx,by,bz = prob.vars.bx,prob.vars.by,prob.vars.bz;\n",
    "    return sum(bx.^2+by.^2 + bz.^2)\n",
    "end\n",
    "\n",
    "KE = Diagnostic(KEfoo, GPUprob);\n",
    "ME = Diagnostic(MEfoo, GPUprob);"
   ]
  },
  {
   "cell_type": "code",
   "execution_count": 7,
   "id": "graduate-ocean",
   "metadata": {},
   "outputs": [
    {
     "name": "stderr",
     "output_type": "stream",
     "text": [
      "┌ Warning: ProgressMeter by default refresh meters with additional information in IJulia via `IJulia.clear_output`, which clears all outputs in the cell. \n",
      "│  - To prevent this behaviour, do `ProgressMeter.ijulia_behavior(:append)`. \n",
      "│  - To disable this warning message, do `ProgressMeter.ijulia_behavior(:clear)`.\n",
      "└ @ ProgressMeter /home/doraho/.julia/packages/ProgressMeter/sN2xr/src/ProgressMeter.jl:618\n",
      "\u001b[32mSimulation in rogress : 100%|██████████| Time: 0:01:00 (60.05 ms/it)\u001b[39m\n",
      "\u001b[34m  Progress:    iter/Nₒ = 1000/1000, t/t₀ = 20.0/20.0\u001b[39m\n",
      "\u001b[34m  Statistics:  KE = 365.0, ME = 203.0\u001b[39m\n"
     ]
    },
    {
     "name": "stdout",
     "output_type": "stream",
     "text": [
      "Total CPU/GPU time run = 60.058 s, zone update per second = 4.364823687e6 \n",
      " 62.062806 seconds (67.64 M CPU allocations: 51.706 GiB, 3.81% gc time) (88.00 k GPU allocations: 79.960 GiB, 0.43% memmgmt time)\n"
     ]
    }
   ],
   "source": [
    "#GPU for 64^3\n",
    "L0 = 2;\n",
    "ProblemGeneratorTG!(GPUprob,L0,N)\n",
    "\n",
    "CUDA.@time TimeIntegrator!(GPUprob,20.0,1000;\n",
    "                                 usr_dt = dt,\n",
    "                                  diags = [KE,ME],\n",
    "                            loop_number = 100,\n",
    "                                   save = false,\n",
    "                               save_loc = \"\",\n",
    "                               filename = \"\",\n",
    "                                dump_dt = 0)"
   ]
  },
  {
   "cell_type": "code",
   "execution_count": 8,
   "id": "corresponding-globe",
   "metadata": {},
   "outputs": [
    {
     "data": {
      "image/png": "[encoded data removed]",
      "text/plain": [
       "Figure(PyObject <Figure size 640x480 with 1 Axes>)"
      ]
     },
     "metadata": {},
     "output_type": "display_data"
    },
    {
     "data": {
      "text/plain": [
       "PyObject Text(30.000000000000014, 0.5, 'Energy [code unit]')"
      ]
     },
     "execution_count": 8,
     "metadata": {},
     "output_type": "execute_result"
    }
   ],
   "source": [
    "n = KE.i;\n",
    "t  = KE.t[2:n];\n",
    "uu = KE.data[2:n];\n",
    "bb = ME.data[2:n];\n",
    "\n",
    "semilogy(t,uu.*(GPUprob.grid.dx)^6,\"r\",label=L\"U^2\")\n",
    "semilogy(t,bb.*(GPUprob.grid.dx)^6,\"b\",label=L\"B^2\")\n",
    "legend()\n",
    "xlabel(\"t  [code unit]\",size=16)\n",
    "ylabel(\"Energy [code unit]\",size=16)"
   ]
  },
  {
   "cell_type": "code",
   "execution_count": null,
   "id": "b267a084-9dc5-46ad-9d9f-d466843aecd3",
   "metadata": {},
   "outputs": [],
   "source": []
  }
 ],
 "metadata": {
  "kernelspec": {
   "display_name": "Julia (8 threads) 1.7.3",
   "language": "julia",
   "name": "julia-(8-threads)-1.7"
  },
  "language_info": {
   "file_extension": ".jl",
   "mimetype": "application/julia",
   "name": "julia",
   "version": "1.7.3"
  }
 },
 "nbformat": 4,
 "nbformat_minor": 5
}
